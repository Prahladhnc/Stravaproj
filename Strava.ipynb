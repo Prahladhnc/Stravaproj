{
  "cells": [
    {
      "cell_type": "code",
      "execution_count": 2,
      "metadata": {
        "colab": {
          "base_uri": "https://localhost:8080/"
        },
        "id": "e2SKiRP_oE6M",
        "outputId": "02f8be40-a26f-4c54-c274-6c966f5af153"
      },
      "outputs": [],
      "source": [
        "from bs4 import BeautifulSoup as bs\n",
        "import requests\n",
        "import pandas as pd"
      ]
    },
    {
      "cell_type": "code",
      "execution_count": 3,
      "metadata": {
        "colab": {
          "base_uri": "https://localhost:8080/"
        },
        "id": "5lk4QtN3oPIw",
        "outputId": "5cf4b738-005b-4837-d9fe-978e897f5749"
      },
      "outputs": [
        {
          "name": "stdout",
          "output_type": "stream",
          "text": [
            "Club Name: BMSCE NCC\n",
            "Club Description: BMSCE NCC FSFS/2/C\n",
            "Club Member Count: 21\n"
          ]
        }
      ],
      "source": [
        "import requests\n",
        "\n",
        "# Replace these values with your actual client ID, client secret, and access token\n",
        "client_id = '121558'\n",
        "client_secret = '5415d151f56de941ba6bdd1a07bfda0aa28e2695'\n",
        "access_token = '8d2e2c4a2fdf3c7d03e991cc008ad8635ee5de6d'\n",
        "\n",
        "# URL of the Strava API endpoint to retrieve club details\n",
        "club_id = '1217829'\n",
        "club_url = f'https://www.strava.com/api/v3/clubs/{club_id}'\n",
        "\n",
        "# Set up headers with the access token for authentication\n",
        "headers = {'Authorization': f'Bearer {access_token}'}\n",
        "\n",
        "# Make a GET request to the club endpoint\n",
        "response = requests.get(club_url, headers=headers)\n",
        "\n",
        "# Check if the request was successful\n",
        "if response.status_code == 200:\n",
        "    # Extract club data from the response\n",
        "    club_data = response.json()\n",
        "    print(\"Club Name:\", club_data['name'])\n",
        "    print(\"Club Description:\", club_data['description'])\n",
        "    print(\"Club Member Count:\", club_data['member_count'])\n",
        "    # You can extract other relevant information here\n",
        "else:\n",
        "    print(\"Error:\", response.status_code, response.text)\n"
      ]
    },
    {
      "cell_type": "code",
      "execution_count": 3,
      "metadata": {
        "colab": {
          "base_uri": "https://localhost:8080/"
        },
        "id": "gs6y8XYBos6k",
        "outputId": "986bd968-d899-437b-8db6-a9cbde6c8311"
      },
      "outputs": [
        {
          "name": "stdout",
          "output_type": "stream",
          "text": [
            "[{'resource_state': 2, 'athlete': {'resource_state': 2, 'firstname': 'Keertana', 'lastname': 'G.'}, 'name': 'Night run\\n(15/02/2024)', 'distance': 2016.0, 'moving_time': 564, 'elapsed_time': 727, 'total_elevation_gain': 12.2, 'type': 'Run', 'sport_type': 'Run', 'workout_type': 0}, {'resource_state': 2, 'athlete': {'resource_state': 2, 'firstname': 'Parnika', 'lastname': 'B.'}, 'name': 'Evening run-2 (15/02/2024)', 'distance': 2008.2, 'moving_time': 903, 'elapsed_time': 903, 'total_elevation_gain': 10.1, 'type': 'Run', 'sport_type': 'Run', 'workout_type': 0}, {'resource_state': 2, 'athlete': {'resource_state': 2, 'firstname': 'Parnika', 'lastname': 'B.'}, 'name': 'Evening run-1 (15/02/2024)', 'distance': 1407.1, 'moving_time': 604, 'elapsed_time': 604, 'total_elevation_gain': 6.2, 'type': 'Run', 'sport_type': 'Run', 'workout_type': 0}, {'resource_state': 2, 'athlete': {'resource_state': 2, 'firstname': 'Prahladh', 'lastname': 'N.'}, 'name': 'Night 3k (15/02/2024)', 'distance': 3108.4, 'moving_time': 915, 'elapsed_time': 1038, 'total_elevation_gain': 32.3, 'type': 'Run', 'sport_type': 'Run', 'workout_type': 3}, {'resource_state': 2, 'athlete': {'resource_state': 2, 'firstname': 'Ravi', 'lastname': '..'}, 'name': 'Run(15/02/2024)', 'distance': 1838.1, 'moving_time': 519, 'elapsed_time': 1090, 'total_elevation_gain': 38.8, 'type': 'Run', 'sport_type': 'Run', 'workout_type': 0}, {'resource_state': 2, 'athlete': {'resource_state': 2, 'firstname': 'Tilak', 'lastname': 'S.'}, 'name': 'YOU v/s YOU.(15/02/2024)', 'distance': 3805.3, 'moving_time': 1129, 'elapsed_time': 1129, 'total_elevation_gain': 79.2, 'type': 'Run', 'sport_type': 'Run', 'workout_type': 0}, {'resource_state': 2, 'athlete': {'resource_state': 2, 'firstname': 'Altamas', 'lastname': 'K.'}, 'name': 'Morning Run', 'distance': 1279.1, 'moving_time': 344, 'elapsed_time': 344, 'total_elevation_gain': 17.9, 'type': 'Run', 'sport_type': 'Run', 'workout_type': 0}, {'resource_state': 2, 'athlete': {'resource_state': 2, 'firstname': 'Altamas', 'lastname': 'K.'}, 'name': 'Morning Run', 'distance': 2524.9, 'moving_time': 687, 'elapsed_time': 687, 'total_elevation_gain': 39.7, 'type': 'Run', 'sport_type': 'Run', 'workout_type': 0}, {'resource_state': 2, 'athlete': {'resource_state': 2, 'firstname': 'Vicky', 'lastname': 'P.'}, 'name': 'Carrying spirit of NCC with Co-cadets KRUTHIKA and PRATEEK .✨\\nStrength in unity 💪', 'distance': 5133.5, 'moving_time': 1898, 'elapsed_time': 1898, 'total_elevation_gain': 81.0, 'type': 'Run', 'sport_type': 'Run', 'workout_type': 0}, {'resource_state': 2, 'athlete': {'resource_state': 2, 'firstname': 'Pratik', 'lastname': 'J.'}, 'name': 'Vicky, Kruthika and me carrying spirits of unity in 2nd day of run', 'distance': 5802.0, 'moving_time': 2105, 'elapsed_time': 2114, 'total_elevation_gain': 91.7, 'type': 'Run', 'sport_type': 'Run', 'workout_type': 0}, {'resource_state': 2, 'athlete': {'resource_state': 2, 'firstname': 'Keertana', 'lastname': 'G.'}, 'name': 'Evening Run\\n(14/02/2024)', 'distance': 1353.7, 'moving_time': 378, 'elapsed_time': 531, 'total_elevation_gain': 7.1, 'type': 'Run', 'sport_type': 'Run', 'workout_type': 0}, {'resource_state': 2, 'athlete': {'resource_state': 2, 'firstname': 'areyen', 'lastname': 'D.'}, 'name': 'attempt 1', 'distance': 3238.9, 'moving_time': 1319, 'elapsed_time': 1456, 'total_elevation_gain': 26.5, 'type': 'Run', 'sport_type': 'Run', 'workout_type': 0}, {'resource_state': 2, 'athlete': {'resource_state': 2, 'firstname': 'Parnika', 'lastname': 'B.'}, 'name': 'Day 2 run-2', 'distance': 2005.8, 'moving_time': 984, 'elapsed_time': 984, 'total_elevation_gain': 16.2, 'type': 'Run', 'sport_type': 'Run', 'workout_type': 0}, {'resource_state': 2, 'athlete': {'resource_state': 2, 'firstname': 'Parnika', 'lastname': 'B.'}, 'name': 'Day 2 run-1', 'distance': 1317.8, 'moving_time': 591, 'elapsed_time': 633, 'total_elevation_gain': 11.7, 'type': 'Run', 'sport_type': 'Run', 'workout_type': 0}, {'resource_state': 2, 'athlete': {'resource_state': 2, 'firstname': 'Ravi', 'lastname': '..'}, 'name': 'Evening Run(14/02)', 'distance': 3931.0, 'moving_time': 1236, 'elapsed_time': 2419, 'total_elevation_gain': 84.4, 'type': 'Run', 'sport_type': 'Run', 'workout_type': 0}, {'resource_state': 2, 'athlete': {'resource_state': 2, 'firstname': 'Altamas', 'lastname': 'K.'}, 'name': 'Evening Run', 'distance': 2362.3, 'moving_time': 680, 'elapsed_time': 680, 'total_elevation_gain': 39.1, 'type': 'Run', 'sport_type': 'Run', 'workout_type': 0}, {'resource_state': 2, 'athlete': {'resource_state': 2, 'firstname': 'Bhargava', 'lastname': 'R.'}, 'name': 'Evening Run(14/02/2024)', 'distance': 9194.0, 'moving_time': 3294, 'elapsed_time': 3298, 'total_elevation_gain': 0.0, 'type': 'Run', 'sport_type': 'Run', 'workout_type': 0}, {'resource_state': 2, 'athlete': {'resource_state': 2, 'firstname': 'Abhishek', 'lastname': 'P.'}, 'name': 'Morning Walk', 'distance': 1007.1, 'moving_time': 609, 'elapsed_time': 609, 'total_elevation_gain': 10.1, 'type': 'Walk', 'sport_type': 'Walk'}, {'resource_state': 2, 'athlete': {'resource_state': 2, 'firstname': 'Abhishek', 'lastname': 'P.'}, 'name': 'Morning Run', 'distance': 3322.4, 'moving_time': 977, 'elapsed_time': 977, 'total_elevation_gain': 17.0, 'type': 'Run', 'sport_type': 'Run', 'workout_type': 0}, {'resource_state': 2, 'athlete': {'resource_state': 2, 'firstname': 'Vicky', 'lastname': 'P.'}, 'name': 'Others FEB 14 resolution:🌹💍👫\\nAnd Me : hold my shoes 👟🏃\\u200d♂️🐎', 'distance': 5420.0, 'moving_time': 1953, 'elapsed_time': 1976, 'total_elevation_gain': 89.8, 'type': 'Run', 'sport_type': 'Run', 'workout_type': 0}, {'resource_state': 2, 'athlete': {'resource_state': 2, 'firstname': 'Pratik', 'lastname': 'J.'}, 'name': 'NCC VALENTINES RUN', 'distance': 5390.7, 'moving_time': 1872, 'elapsed_time': 1912, 'total_elevation_gain': 92.3, 'type': 'Run', 'sport_type': 'Run', 'workout_type': 0}, {'resource_state': 2, 'athlete': {'resource_state': 2, 'firstname': 'Keertana', 'lastname': 'G.'}, 'name': 'Evening Run\\n(13/02/2024)', 'distance': 1021.3, 'moving_time': 288, 'elapsed_time': 365, 'total_elevation_gain': 7.2, 'type': 'Run', 'sport_type': 'Run', 'workout_type': 0}, {'resource_state': 2, 'athlete': {'resource_state': 2, 'firstname': 'Keertana', 'lastname': 'G.'}, 'name': 'Evening Run\\n(13/02/2024)', 'distance': 1024.1, 'moving_time': 286, 'elapsed_time': 343, 'total_elevation_gain': 4.8, 'type': 'Run', 'sport_type': 'Run', 'workout_type': 0}, {'resource_state': 2, 'athlete': {'resource_state': 2, 'firstname': 'Vani', 'lastname': 'V.'}, 'name': 'Day-1 r-2', 'distance': 2326.1, 'moving_time': 1367, 'elapsed_time': 1621, 'total_elevation_gain': 15.4, 'type': 'Run', 'sport_type': 'Run', 'workout_type': 0}, {'resource_state': 2, 'athlete': {'resource_state': 2, 'firstname': 'Vani', 'lastname': 'V.'}, 'name': 'Day-1 r-1', 'distance': 1000.1, 'moving_time': 551, 'elapsed_time': 1552, 'total_elevation_gain': 14.5, 'type': 'Run', 'sport_type': 'Run', 'workout_type': 0}, {'resource_state': 2, 'athlete': {'resource_state': 2, 'firstname': 'Ravi', 'lastname': '..'}, 'name': 'Jog(13/02)', 'distance': 4166.6, 'moving_time': 511, 'elapsed_time': 568, 'total_elevation_gain': 52.6, 'type': 'Run', 'sport_type': 'Run', 'workout_type': 0}, {'resource_state': 2, 'athlete': {'resource_state': 2, 'firstname': 'Tilak', 'lastname': 'S.'}, 'name': \"Let's go!(13/02/2024)\", 'distance': 5007.5, 'moving_time': 1486, 'elapsed_time': 1486, 'total_elevation_gain': 115.2, 'type': 'Run', 'sport_type': 'Run', 'workout_type': 0}, {'resource_state': 2, 'athlete': {'resource_state': 2, 'firstname': 'Prahladh', 'lastname': 'N.'}, 'name': 'Evening 5.5k (13-02-2024)', 'distance': 5505.3, 'moving_time': 1584, 'elapsed_time': 1629, 'total_elevation_gain': 47.5, 'type': 'Run', 'sport_type': 'Run', 'workout_type': 2}, {'resource_state': 2, 'athlete': {'resource_state': 2, 'firstname': 'Ravi', 'lastname': '..'}, 'name': 'Late for class(13/02)', 'distance': 1387.3, 'moving_time': 501, 'elapsed_time': 507, 'total_elevation_gain': 12.6, 'type': 'Run', 'sport_type': 'Run', 'workout_type': 0}, {'resource_state': 2, 'athlete': {'resource_state': 2, 'firstname': 'Ravi', 'lastname': '..'}, 'name': 'To swim(13/02)', 'distance': 1382.7, 'moving_time': 385, 'elapsed_time': 385, 'total_elevation_gain': 8.4, 'type': 'Run', 'sport_type': 'Run', 'workout_type': 0}]\n"
          ]
        }
      ],
      "source": [
        "recent_activity_url = f'https://www.strava.com/api/v3/clubs/{club_id}/activities/'\n",
        "\n",
        "# Set up headers with the access token for authentication\n",
        "headers = {'Authorization': f'Bearer {access_token}'}\n",
        "\n",
        "# Make a GET request to the recent activity endpoint\n",
        "response = requests.get(recent_activity_url, headers=headers)\n",
        "\n",
        "# Check if the request was successful\n",
        "if response.status_code == 200:\n",
        "    # Extract recent activity data from the response\n",
        "    recent_activity_data = response.json()\n",
        "\n",
        "    # Process and print recent activity data\n",
        "    print(recent_activity_data)\n",
        "else:\n",
        "    print(\"Error:\", response.status_code, response.text)"
      ]
    },
    {
      "cell_type": "code",
      "execution_count": 6,
      "metadata": {
        "colab": {
          "base_uri": "https://localhost:8080/"
        },
        "id": "YUQwzCaXrkHd",
        "outputId": "653f4547-9fae-4a6b-bfc3-cd5028ade22f"
      },
      "outputs": [
        {
          "name": "stdout",
          "output_type": "stream",
          "text": [
            "         AthleteName         ActivityName  Distance  MovingTime  ElapsedTime  \\\n",
            "0        Abhishek P.         Morning Walk    1007.1         609          609   \n",
            "1        Abhishek P.          Morning Run    3322.4         977          977   \n",
            "2        Keertana G.          Evening Run    1021.3         288          365   \n",
            "3        Keertana G.          Evening Run    1024.1         286          343   \n",
            "4            Ravi ..                  Jog    4166.6         511          568   \n",
            "5           Tilak S.            Let's go!    5007.5        1486         1486   \n",
            "6        Prahladh N.         Evening 5.5k    5505.3        1584         1629   \n",
            "7            Ravi ..       Late for class    1387.3         501          507   \n",
            "8            Ravi ..              To swim    1382.7         385          385   \n",
            "9            Ravi ..                  Jog    1074.2         356          359   \n",
            "10           Ravi ..          Evening Run     392.9          86           86   \n",
            "11           Ravi ..                  Run    1569.5         532          532   \n",
            "12       Prahladh N.             Track 5k    5010.0        1338         1338   \n",
            "13          Tilak S.          Evening run    3333.8         966          966   \n",
            "14          Tilak S.  Evening ride with 🐍   10494.2        2268         2367   \n",
            "15          Tilak S.         Morning ride    6692.2        1245         1259   \n",
            "16       Keertana G.          Evening Run    1217.0         337          388   \n",
            "17          Tilak S.            Noon ride    7296.9        1435         1534   \n",
            "18          Tilak S.         Morning ride    7319.9        1401         1401   \n",
            "19           Ravi ..              Warm up    1574.1         492          492   \n",
            "20          Tilak S.          Evening run    1651.0         479          479   \n",
            "21  Shishu Malnad S.          Morning jog    1678.9         634          975   \n",
            "22       Prahladh N.          Morning Run    2074.0         694          702   \n",
            "23       Prahladh N.          Morning Run    2008.3         550          550   \n",
            "24       Keertana G.          Evening Run    1068.2         323          337   \n",
            "25       Prahladh N.          4k inclined    4104.8        1129         1253   \n",
            "26          Tilak S.          Evening run    2678.5         754          754   \n",
            "27  Shishu Malnad S.               Warmup     586.6         186          190   \n",
            "28       Abhishek P.          Evening Run    2024.2         577          629   \n",
            "29       Keertana G.          Evening Run    1029.6         286          286   \n",
            "\n",
            "    TotalElevationGain ActivityType SportType  \n",
            "0                 10.1         Walk      Walk  \n",
            "1                 17.0          Run       Run  \n",
            "2                  7.2          Run       Run  \n",
            "3                  4.8          Run       Run  \n",
            "4                 52.6          Run       Run  \n",
            "5                115.2          Run       Run  \n",
            "6                 47.5          Run       Run  \n",
            "7                 12.6          Run       Run  \n",
            "8                  8.4          Run       Run  \n",
            "9                 14.2          Run       Run  \n",
            "10                 8.2          Run       Run  \n",
            "11                34.1          Run       Run  \n",
            "12                45.2          Run       Run  \n",
            "13                69.6          Run       Run  \n",
            "14                69.1         Ride      Ride  \n",
            "15                50.5         Ride      Ride  \n",
            "16                 4.9          Run       Run  \n",
            "17                47.3         Ride      Ride  \n",
            "18                62.6         Ride      Ride  \n",
            "19                28.9          Run       Run  \n",
            "20                36.7          Run       Run  \n",
            "21                 0.0          Run       Run  \n",
            "22                36.4          Run       Run  \n",
            "23                 8.3          Run       Run  \n",
            "24                 4.9          Run       Run  \n",
            "25                46.4          Run       Run  \n",
            "26                60.1          Run       Run  \n",
            "27                 8.8          Run       Run  \n",
            "28                17.0          Run       Run  \n",
            "29                 4.9          Run       Run  \n"
          ]
        }
      ],
      "source": [
        "athlete_names = []\n",
        "activity_names = []\n",
        "distances = []\n",
        "moving_times = []\n",
        "elapsed_times = []\n",
        "total_elevation_gains = []\n",
        "activity_types = []\n",
        "sport_types = []\n",
        "\n",
        "    # Extract data for each activity\n",
        "for activity in recent_activity_data:\n",
        "    athlete_names.append(activity['athlete']['firstname'] + ' ' + activity['athlete']['lastname'])\n",
        "    activity_names.append(activity['name'])\n",
        "    distances.append(activity['distance'])\n",
        "    moving_times.append(activity['moving_time'])\n",
        "    elapsed_times.append(activity['elapsed_time'])\n",
        "    total_elevation_gains.append(activity['total_elevation_gain'])\n",
        "    activity_types.append(activity['type'])\n",
        "    sport_types.append(activity['sport_type'])\n",
        "\n",
        "    # Create a pandas DataFrame\n",
        "df = pd.DataFrame({\n",
        "        'AthleteName': athlete_names,\n",
        "        'ActivityName': activity_names,\n",
        "        'Distance': distances,\n",
        "        'MovingTime': moving_times,\n",
        "        'ElapsedTime': elapsed_times,\n",
        "        'TotalElevationGain': total_elevation_gains,\n",
        "        'ActivityType': activity_types,\n",
        "        'SportType': sport_types\n",
        "    })\n",
        "\n",
        "    # Display the DataFrame\n",
        "print(df)"
      ]
    },
    {
      "cell_type": "code",
      "execution_count": 13,
      "metadata": {
        "colab": {
          "base_uri": "https://localhost:8080/",
          "height": 206
        },
        "id": "W8gJgJyG1I4N",
        "outputId": "2446c19a-004d-4c22-eaca-df479b367ca9"
      },
      "outputs": [
        {
          "data": {
            "text/html": [
              "<div>\n",
              "<style scoped>\n",
              "    .dataframe tbody tr th:only-of-type {\n",
              "        vertical-align: middle;\n",
              "    }\n",
              "\n",
              "    .dataframe tbody tr th {\n",
              "        vertical-align: top;\n",
              "    }\n",
              "\n",
              "    .dataframe thead th {\n",
              "        text-align: right;\n",
              "    }\n",
              "</style>\n",
              "<table border=\"1\" class=\"dataframe\">\n",
              "  <thead>\n",
              "    <tr style=\"text-align: right;\">\n",
              "      <th></th>\n",
              "      <th>AthleteName</th>\n",
              "      <th>ActivityName</th>\n",
              "      <th>Distance</th>\n",
              "      <th>MovingTime</th>\n",
              "      <th>ElapsedTime</th>\n",
              "      <th>TotalElevationGain</th>\n",
              "      <th>ActivityType</th>\n",
              "      <th>SportType</th>\n",
              "    </tr>\n",
              "  </thead>\n",
              "  <tbody>\n",
              "    <tr>\n",
              "      <th>25</th>\n",
              "      <td>Prahladh N.</td>\n",
              "      <td>4k inclined</td>\n",
              "      <td>4104.8</td>\n",
              "      <td>1129</td>\n",
              "      <td>1253</td>\n",
              "      <td>46.4</td>\n",
              "      <td>Run</td>\n",
              "      <td>Run</td>\n",
              "    </tr>\n",
              "    <tr>\n",
              "      <th>26</th>\n",
              "      <td>Tilak S.</td>\n",
              "      <td>Evening run</td>\n",
              "      <td>2678.5</td>\n",
              "      <td>754</td>\n",
              "      <td>754</td>\n",
              "      <td>60.1</td>\n",
              "      <td>Run</td>\n",
              "      <td>Run</td>\n",
              "    </tr>\n",
              "    <tr>\n",
              "      <th>27</th>\n",
              "      <td>Shishu Malnad S.</td>\n",
              "      <td>Warmup</td>\n",
              "      <td>586.6</td>\n",
              "      <td>186</td>\n",
              "      <td>190</td>\n",
              "      <td>8.8</td>\n",
              "      <td>Run</td>\n",
              "      <td>Run</td>\n",
              "    </tr>\n",
              "    <tr>\n",
              "      <th>28</th>\n",
              "      <td>Abhishek P.</td>\n",
              "      <td>Evening Run</td>\n",
              "      <td>2024.2</td>\n",
              "      <td>577</td>\n",
              "      <td>629</td>\n",
              "      <td>17.0</td>\n",
              "      <td>Run</td>\n",
              "      <td>Run</td>\n",
              "    </tr>\n",
              "    <tr>\n",
              "      <th>29</th>\n",
              "      <td>Keertana G.</td>\n",
              "      <td>Evening Run</td>\n",
              "      <td>1029.6</td>\n",
              "      <td>286</td>\n",
              "      <td>286</td>\n",
              "      <td>4.9</td>\n",
              "      <td>Run</td>\n",
              "      <td>Run</td>\n",
              "    </tr>\n",
              "  </tbody>\n",
              "</table>\n",
              "</div>"
            ],
            "text/plain": [
              "         AthleteName ActivityName  Distance  MovingTime  ElapsedTime  \\\n",
              "25       Prahladh N.  4k inclined    4104.8        1129         1253   \n",
              "26          Tilak S.  Evening run    2678.5         754          754   \n",
              "27  Shishu Malnad S.       Warmup     586.6         186          190   \n",
              "28       Abhishek P.  Evening Run    2024.2         577          629   \n",
              "29       Keertana G.  Evening Run    1029.6         286          286   \n",
              "\n",
              "    TotalElevationGain ActivityType SportType  \n",
              "25                46.4          Run       Run  \n",
              "26                60.1          Run       Run  \n",
              "27                 8.8          Run       Run  \n",
              "28                17.0          Run       Run  \n",
              "29                 4.9          Run       Run  "
            ]
          },
          "execution_count": 13,
          "metadata": {},
          "output_type": "execute_result"
        }
      ],
      "source": [
        "df.tail()"
      ]
    },
    {
      "cell_type": "code",
      "execution_count": 20,
      "metadata": {
        "cellView": "form",
        "colab": {
          "base_uri": "https://localhost:8080/",
          "height": 430
        },
        "id": "_ZEROlOt2dUi",
        "outputId": "fce4c389-7751-4b44-f47d-0698565d4f88"
      },
      "outputs": [
        {
          "data": {
            "image/png": "[encoded data removed]",
            "text/plain": [
              "<Figure size 640x480 with 1 Axes>"
            ]
          },
          "metadata": {},
          "output_type": "display_data"
        }
      ],
      "source": [
        "# @title AthleteName\n",
        "\n",
        "from matplotlib import pyplot as plt\n",
        "import seaborn as sns\n",
        "df.groupby('AthleteName').size().plot(kind='barh', color=sns.palettes.mpl_palette('Dark2'))\n",
        "plt.gca().spines[['top', 'right',]].set_visible(False)"
      ]
    },
    {
      "cell_type": "code",
      "execution_count": 8,
      "metadata": {
        "id": "g2yzAbUc1Kng"
      },
      "outputs": [],
      "source": [
        "df.to_csv('recent_activity.csv', index=False)"
      ]
    },
    {
      "cell_type": "code",
      "execution_count": 4,
      "metadata": {},
      "outputs": [
        {
          "name": "stdout",
          "output_type": "stream",
          "text": [
            "DataFrame saved as all_activities.csv and downloaded.\n"
          ]
        }
      ],
      "source": [
        "\n",
        "# URL of the Strava API endpoint to retrieve recent activity for the club\n",
        "recent_activity_url = f'https://www.strava.com/api/v3/clubs/{club_id}/activities/'\n",
        "\n",
        "# Set up headers with the access token for authentication\n",
        "headers = {'Authorization': f'Bearer {access_token}'}\n",
        "\n",
        "# Initialize an empty list to store all activities\n",
        "all_activities = []\n",
        "\n",
        "# Initialize page number\n",
        "page = 1\n",
        "\n",
        "# Fetch activities until all pages are retrieved\n",
        "while True:\n",
        "    # Make a GET request to the recent activity endpoint with pagination\n",
        "    response = requests.get(recent_activity_url, headers=headers, params={'page': page})\n",
        "    \n",
        "    # Check if the request was successful\n",
        "    if response.status_code == 200:\n",
        "        # Extract recent activity data from the response\n",
        "        recent_activity_data = response.json()\n",
        "        \n",
        "        # Check if there are no more activities\n",
        "        if not recent_activity_data:\n",
        "            break\n",
        "        \n",
        "        # Add activities to the list\n",
        "        all_activities.extend(recent_activity_data)\n",
        "        \n",
        "        # Increment page number for the next request\n",
        "        page += 1\n",
        "    else:\n",
        "        print(\"Error:\", response.status_code, response.text)\n",
        "        break\n",
        "\n",
        "# Extract data for all activities\n",
        "athlete_names = []\n",
        "activity_names = []\n",
        "distances = []\n",
        "moving_times = []\n",
        "elapsed_times = []\n",
        "total_elevation_gains = []\n",
        "activity_types = []\n",
        "sport_types = []\n",
        "\n",
        "\n",
        "for activity in all_activities:\n",
        "    athlete_names.append(activity['athlete']['firstname'] + ' ' + activity['athlete']['lastname'])\n",
        "    activity_names.append(activity['name'])\n",
        "    distances.append(activity['distance'])\n",
        "    moving_times.append(activity['moving_time'])\n",
        "    elapsed_times.append(activity['elapsed_time'])\n",
        "    total_elevation_gains.append(activity['total_elevation_gain'])\n",
        "    activity_types.append(activity['type'])\n",
        "    sport_types.append(activity['sport_type'])\n",
        "    \n",
        "# Create a pandas DataFrame\n",
        "df = pd.DataFrame({\n",
        "        'AthleteName': athlete_names,\n",
        "        'ActivityName': activity_names,\n",
        "        'Distance': distances,\n",
        "        'MovingTime': moving_times,\n",
        "        'ElapsedTime': elapsed_times,\n",
        "        'TotalElevationGain': total_elevation_gains,\n",
        "        'ActivityType': activity_types,\n",
        "        'SportType': sport_types\n",
        "    })\n",
        "\n",
        "df['Date'] = df['ActivityName'].str.extract(r'\\((.*?)\\)')\n",
        "# Save the DataFrame as a CSV file\n"
      ]
    },
    {
      "cell_type": "code",
      "execution_count": 5,
      "metadata": {},
      "outputs": [],
      "source": [
        "\n",
        "list1=[\"Manjunath M.\", \"Keertana G.\", \"Prahladh N.\", \"Ravi ..\", \"Nikhil H.\", \"Tilak S.\", \"Niwa D.\", \"PRAGATHI T.\", \"Vignesh R.\"]\n",
        "list2=[\"Parnika B.\", \"Vicky P.\", \"Kruthika G.\", \"Pratik J.\", \"Altamas K.\", \"SOURABH M.\", \"Bhargava R.\", \"Vani V.\"]\n",
        "def assign_seniority(name):\n",
        "    if name in list1:\n",
        "        return 'Senior'\n",
        "    elif name in list2:\n",
        "        return 'Junior'\n",
        "    else:\n",
        "        return ''\n",
        "\n",
        "# Apply function to create Seniority column\n",
        "df['Seniority'] = df['AthleteName'].apply(assign_seniority)"
      ]
    },
    {
      "cell_type": "code",
      "execution_count": 6,
      "metadata": {},
      "outputs": [
        {
          "name": "stdout",
          "output_type": "stream",
          "text": [
            "DataFrame saved as all_activities.csv and downloaded.\n"
          ]
        }
      ],
      "source": [
        "df.to_csv('all_activities.csv', index=False)\n",
        "\n",
        "\n",
        "\n",
        "print(\"DataFrame saved as all_activities.csv and downloaded.\")\n"
      ]
    },
    {
      "cell_type": "code",
      "execution_count": null,
      "metadata": {},
      "outputs": [],
      "source": []
    }
  ],
  "metadata": {
    "colab": {
      "provenance": []
    },
    "kernelspec": {
      "display_name": "Python 3",
      "name": "python3"
    },
    "language_info": {
      "codemirror_mode": {
        "name": "ipython",
        "version": 3
      },
      "file_extension": ".py",
      "mimetype": "text/x-python",
      "name": "python",
      "nbconvert_exporter": "python",
      "pygments_lexer": "ipython3",
      "version": "3.11.2"
    }
  },
  "nbformat": 4,
  "nbformat_minor": 0
}
